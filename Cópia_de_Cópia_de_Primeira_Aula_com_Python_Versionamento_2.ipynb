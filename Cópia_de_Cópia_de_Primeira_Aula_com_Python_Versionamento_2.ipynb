{
  "nbformat": 4,
  "nbformat_minor": 0,
  "metadata": {
    "colab": {
      "provenance": [],
      "authorship_tag": "ABX9TyM+7aSJCAd+mGqiVVnufDaq",
      "include_colab_link": true
    },
    "kernelspec": {
      "name": "python3",
      "display_name": "Python 3"
    },
    "language_info": {
      "name": "python"
    }
  },
  "cells": [
    {
      "cell_type": "markdown",
      "metadata": {
        "id": "view-in-github",
        "colab_type": "text"
      },
      "source": [
        "<a href=\"https://colab.research.google.com/github/PeheroDev/PeheroDev/blob/main/C%C3%B3pia_de_C%C3%B3pia_de_Primeira_Aula_com_Python_Versionamento_2.ipynb\" target=\"_parent\"><img src=\"https://colab.research.google.com/assets/colab-badge.svg\" alt=\"Open In Colab\"/></a>"
      ]
    },
    {
      "cell_type": "code",
      "source": [
        "print (\"Olá, Mundo!\")"
      ],
      "metadata": {
        "colab": {
          "base_uri": "https://localhost:8080/"
        },
        "id": "xavdG76njCwe",
        "outputId": "f159363d-b5bc-4a2f-9027-dffe7f5d0e65"
      },
      "execution_count": null,
      "outputs": [
        {
          "output_type": "stream",
          "name": "stdout",
          "text": [
            "Olá, Mundo!\n"
          ]
        }
      ]
    },
    {
      "cell_type": "markdown",
      "source": [
        "#02/05/2023 - Estácio de Sá - Sistema da Informação - Paradigmas de linguagem e Python\n",
        "\n",
        "No Python, ele aceita tanto aspas duplas quanto aspas simples (\"Olá, Mundo!\") Ou ('Olá, Mundo').\n",
        "\n",
        "Sendo uma lingua multiparadigma, portável, hibrida, expansível, PDO, funcional, permite aplicações WEB e aplicações comerciais. \n"
      ],
      "metadata": {
        "id": "HU5cX4HQjL5W"
      }
    },
    {
      "cell_type": "code",
      "source": [
        "print(12345)\n",
        "print('valor',12345)\n",
        "print('valor={}'.format(12345))\n",
        "print(f'valor={12345}')\n",
        "print(\"valor\",12345)\n",
        "print(\"valor={}\".format(12345))\n",
        "print(f\"valor={12345}\")\n"
      ],
      "metadata": {
        "colab": {
          "base_uri": "https://localhost:8080/"
        },
        "id": "lnmuj-ZAkPnB",
        "outputId": "f328689b-8839-4618-9ee9-e6e54fa71682"
      },
      "execution_count": null,
      "outputs": [
        {
          "output_type": "stream",
          "name": "stdout",
          "text": [
            "12345\n",
            "valor 12345\n",
            "valor=12345\n",
            "valor=12345\n",
            "valor 12345\n",
            "valor=12345\n",
            "valor=12345\n"
          ]
        }
      ]
    },
    {
      "cell_type": "markdown",
      "source": [
        "Mostrnaod diversas formas de usar o print\n",
        "\n",
        "print 1 - Print simples\n",
        "print 2 - Usando 'aspas simples'\n",
        "print 3 - Quando usamos chaves colocamos os numeros dentro da chave (bastante utilizado para a formatação)\n",
        "print 4 - Bastante utilizando junto com Javascript. A utilização do \"f\" como variável\n",
        "Os outros prints, são uma amostra de que com aspas duplas sairiam o mesmo resultado.\n"
      ],
      "metadata": {
        "id": "_OKIXzrHlBku"
      }
    },
    {
      "cell_type": "code",
      "source": [
        "print(\"Preparando o Ambiente para o Python.\")"
      ],
      "metadata": {
        "colab": {
          "base_uri": "https://localhost:8080/"
        },
        "id": "xLCiOAPQlkRP",
        "outputId": "1c03f133-c5ff-4a08-e379-7d3531bbacd2"
      },
      "execution_count": null,
      "outputs": [
        {
          "output_type": "stream",
          "name": "stdout",
          "text": [
            "Preparando o Ambiente para o Python.\n"
          ]
        }
      ]
    },
    {
      "cell_type": "markdown",
      "source": [
        "IDEs, para programar com Python\n",
        "\n",
        "Google Colab \n",
        "\n",
        "Pycharm\n",
        "\n",
        "Integração com o GitHub\n",
        "\n"
      ],
      "metadata": {
        "id": "1xmr362RmPTl"
      }
    },
    {
      "cell_type": "code",
      "source": [
        "print(dir(int))"
      ],
      "metadata": {
        "colab": {
          "base_uri": "https://localhost:8080/"
        },
        "id": "RgC8WHb2tW3M",
        "outputId": "e4ea5ac3-d7d1-40b1-dcb8-09512b5b01e9"
      },
      "execution_count": null,
      "outputs": [
        {
          "output_type": "stream",
          "name": "stdout",
          "text": [
            "['__abs__', '__add__', '__and__', '__bool__', '__ceil__', '__class__', '__delattr__', '__dir__', '__divmod__', '__doc__', '__eq__', '__float__', '__floor__', '__floordiv__', '__format__', '__ge__', '__getattribute__', '__getnewargs__', '__gt__', '__hash__', '__index__', '__init__', '__init_subclass__', '__int__', '__invert__', '__le__', '__lshift__', '__lt__', '__mod__', '__mul__', '__ne__', '__neg__', '__new__', '__or__', '__pos__', '__pow__', '__radd__', '__rand__', '__rdivmod__', '__reduce__', '__reduce_ex__', '__repr__', '__rfloordiv__', '__rlshift__', '__rmod__', '__rmul__', '__ror__', '__round__', '__rpow__', '__rrshift__', '__rshift__', '__rsub__', '__rtruediv__', '__rxor__', '__setattr__', '__sizeof__', '__str__', '__sub__', '__subclasshook__', '__truediv__', '__trunc__', '__xor__', 'as_integer_ratio', 'bit_count', 'bit_length', 'conjugate', 'denominator', 'from_bytes', 'imag', 'numerator', 'real', 'to_bytes']\n"
          ]
        }
      ]
    },
    {
      "cell_type": "code",
      "source": [
        "print(help(int))"
      ],
      "metadata": {
        "colab": {
          "base_uri": "https://localhost:8080/"
        },
        "id": "1vi5hLvWthOT",
        "outputId": "a19909e9-6485-41f2-df1c-594bc83de17f"
      },
      "execution_count": null,
      "outputs": [
        {
          "output_type": "stream",
          "name": "stdout",
          "text": [
            "Help on class int in module builtins:\n",
            "\n",
            "class int(object)\n",
            " |  int([x]) -> integer\n",
            " |  int(x, base=10) -> integer\n",
            " |  \n",
            " |  Convert a number or string to an integer, or return 0 if no arguments\n",
            " |  are given.  If x is a number, return x.__int__().  For floating point\n",
            " |  numbers, this truncates towards zero.\n",
            " |  \n",
            " |  If x is not a number or if base is given, then x must be a string,\n",
            " |  bytes, or bytearray instance representing an integer literal in the\n",
            " |  given base.  The literal can be preceded by '+' or '-' and be surrounded\n",
            " |  by whitespace.  The base defaults to 10.  Valid bases are 0 and 2-36.\n",
            " |  Base 0 means to interpret the base from the string as an integer literal.\n",
            " |  >>> int('0b100', base=0)\n",
            " |  4\n",
            " |  \n",
            " |  Built-in subclasses:\n",
            " |      bool\n",
            " |  \n",
            " |  Methods defined here:\n",
            " |  \n",
            " |  __abs__(self, /)\n",
            " |      abs(self)\n",
            " |  \n",
            " |  __add__(self, value, /)\n",
            " |      Return self+value.\n",
            " |  \n",
            " |  __and__(self, value, /)\n",
            " |      Return self&value.\n",
            " |  \n",
            " |  __bool__(self, /)\n",
            " |      True if self else False\n",
            " |  \n",
            " |  __ceil__(...)\n",
            " |      Ceiling of an Integral returns itself.\n",
            " |  \n",
            " |  __divmod__(self, value, /)\n",
            " |      Return divmod(self, value).\n",
            " |  \n",
            " |  __eq__(self, value, /)\n",
            " |      Return self==value.\n",
            " |  \n",
            " |  __float__(self, /)\n",
            " |      float(self)\n",
            " |  \n",
            " |  __floor__(...)\n",
            " |      Flooring an Integral returns itself.\n",
            " |  \n",
            " |  __floordiv__(self, value, /)\n",
            " |      Return self//value.\n",
            " |  \n",
            " |  __format__(self, format_spec, /)\n",
            " |      Default object formatter.\n",
            " |  \n",
            " |  __ge__(self, value, /)\n",
            " |      Return self>=value.\n",
            " |  \n",
            " |  __getattribute__(self, name, /)\n",
            " |      Return getattr(self, name).\n",
            " |  \n",
            " |  __getnewargs__(self, /)\n",
            " |  \n",
            " |  __gt__(self, value, /)\n",
            " |      Return self>value.\n",
            " |  \n",
            " |  __hash__(self, /)\n",
            " |      Return hash(self).\n",
            " |  \n",
            " |  __index__(self, /)\n",
            " |      Return self converted to an integer, if self is suitable for use as an index into a list.\n",
            " |  \n",
            " |  __int__(self, /)\n",
            " |      int(self)\n",
            " |  \n",
            " |  __invert__(self, /)\n",
            " |      ~self\n",
            " |  \n",
            " |  __le__(self, value, /)\n",
            " |      Return self<=value.\n",
            " |  \n",
            " |  __lshift__(self, value, /)\n",
            " |      Return self<<value.\n",
            " |  \n",
            " |  __lt__(self, value, /)\n",
            " |      Return self<value.\n",
            " |  \n",
            " |  __mod__(self, value, /)\n",
            " |      Return self%value.\n",
            " |  \n",
            " |  __mul__(self, value, /)\n",
            " |      Return self*value.\n",
            " |  \n",
            " |  __ne__(self, value, /)\n",
            " |      Return self!=value.\n",
            " |  \n",
            " |  __neg__(self, /)\n",
            " |      -self\n",
            " |  \n",
            " |  __or__(self, value, /)\n",
            " |      Return self|value.\n",
            " |  \n",
            " |  __pos__(self, /)\n",
            " |      +self\n",
            " |  \n",
            " |  __pow__(self, value, mod=None, /)\n",
            " |      Return pow(self, value, mod).\n",
            " |  \n",
            " |  __radd__(self, value, /)\n",
            " |      Return value+self.\n",
            " |  \n",
            " |  __rand__(self, value, /)\n",
            " |      Return value&self.\n",
            " |  \n",
            " |  __rdivmod__(self, value, /)\n",
            " |      Return divmod(value, self).\n",
            " |  \n",
            " |  __repr__(self, /)\n",
            " |      Return repr(self).\n",
            " |  \n",
            " |  __rfloordiv__(self, value, /)\n",
            " |      Return value//self.\n",
            " |  \n",
            " |  __rlshift__(self, value, /)\n",
            " |      Return value<<self.\n",
            " |  \n",
            " |  __rmod__(self, value, /)\n",
            " |      Return value%self.\n",
            " |  \n",
            " |  __rmul__(self, value, /)\n",
            " |      Return value*self.\n",
            " |  \n",
            " |  __ror__(self, value, /)\n",
            " |      Return value|self.\n",
            " |  \n",
            " |  __round__(...)\n",
            " |      Rounding an Integral returns itself.\n",
            " |      \n",
            " |      Rounding with an ndigits argument also returns an integer.\n",
            " |  \n",
            " |  __rpow__(self, value, mod=None, /)\n",
            " |      Return pow(value, self, mod).\n",
            " |  \n",
            " |  __rrshift__(self, value, /)\n",
            " |      Return value>>self.\n",
            " |  \n",
            " |  __rshift__(self, value, /)\n",
            " |      Return self>>value.\n",
            " |  \n",
            " |  __rsub__(self, value, /)\n",
            " |      Return value-self.\n",
            " |  \n",
            " |  __rtruediv__(self, value, /)\n",
            " |      Return value/self.\n",
            " |  \n",
            " |  __rxor__(self, value, /)\n",
            " |      Return value^self.\n",
            " |  \n",
            " |  __sizeof__(self, /)\n",
            " |      Returns size in memory, in bytes.\n",
            " |  \n",
            " |  __sub__(self, value, /)\n",
            " |      Return self-value.\n",
            " |  \n",
            " |  __truediv__(self, value, /)\n",
            " |      Return self/value.\n",
            " |  \n",
            " |  __trunc__(...)\n",
            " |      Truncating an Integral returns itself.\n",
            " |  \n",
            " |  __xor__(self, value, /)\n",
            " |      Return self^value.\n",
            " |  \n",
            " |  as_integer_ratio(self, /)\n",
            " |      Return integer ratio.\n",
            " |      \n",
            " |      Return a pair of integers, whose ratio is exactly equal to the original int\n",
            " |      and with a positive denominator.\n",
            " |      \n",
            " |      >>> (10).as_integer_ratio()\n",
            " |      (10, 1)\n",
            " |      >>> (-10).as_integer_ratio()\n",
            " |      (-10, 1)\n",
            " |      >>> (0).as_integer_ratio()\n",
            " |      (0, 1)\n",
            " |  \n",
            " |  bit_count(self, /)\n",
            " |      Number of ones in the binary representation of the absolute value of self.\n",
            " |      \n",
            " |      Also known as the population count.\n",
            " |      \n",
            " |      >>> bin(13)\n",
            " |      '0b1101'\n",
            " |      >>> (13).bit_count()\n",
            " |      3\n",
            " |  \n",
            " |  bit_length(self, /)\n",
            " |      Number of bits necessary to represent self in binary.\n",
            " |      \n",
            " |      >>> bin(37)\n",
            " |      '0b100101'\n",
            " |      >>> (37).bit_length()\n",
            " |      6\n",
            " |  \n",
            " |  conjugate(...)\n",
            " |      Returns self, the complex conjugate of any int.\n",
            " |  \n",
            " |  to_bytes(self, /, length, byteorder, *, signed=False)\n",
            " |      Return an array of bytes representing an integer.\n",
            " |      \n",
            " |      length\n",
            " |        Length of bytes object to use.  An OverflowError is raised if the\n",
            " |        integer is not representable with the given number of bytes.\n",
            " |      byteorder\n",
            " |        The byte order used to represent the integer.  If byteorder is 'big',\n",
            " |        the most significant byte is at the beginning of the byte array.  If\n",
            " |        byteorder is 'little', the most significant byte is at the end of the\n",
            " |        byte array.  To request the native byte order of the host system, use\n",
            " |        `sys.byteorder' as the byte order value.\n",
            " |      signed\n",
            " |        Determines whether two's complement is used to represent the integer.\n",
            " |        If signed is False and a negative integer is given, an OverflowError\n",
            " |        is raised.\n",
            " |  \n",
            " |  ----------------------------------------------------------------------\n",
            " |  Class methods defined here:\n",
            " |  \n",
            " |  from_bytes(bytes, byteorder, *, signed=False) from builtins.type\n",
            " |      Return the integer represented by the given array of bytes.\n",
            " |      \n",
            " |      bytes\n",
            " |        Holds the array of bytes to convert.  The argument must either\n",
            " |        support the buffer protocol or be an iterable object producing bytes.\n",
            " |        Bytes and bytearray are examples of built-in objects that support the\n",
            " |        buffer protocol.\n",
            " |      byteorder\n",
            " |        The byte order used to represent the integer.  If byteorder is 'big',\n",
            " |        the most significant byte is at the beginning of the byte array.  If\n",
            " |        byteorder is 'little', the most significant byte is at the end of the\n",
            " |        byte array.  To request the native byte order of the host system, use\n",
            " |        `sys.byteorder' as the byte order value.\n",
            " |      signed\n",
            " |        Indicates whether two's complement is used to represent the integer.\n",
            " |  \n",
            " |  ----------------------------------------------------------------------\n",
            " |  Static methods defined here:\n",
            " |  \n",
            " |  __new__(*args, **kwargs) from builtins.type\n",
            " |      Create and return a new object.  See help(type) for accurate signature.\n",
            " |  \n",
            " |  ----------------------------------------------------------------------\n",
            " |  Data descriptors defined here:\n",
            " |  \n",
            " |  denominator\n",
            " |      the denominator of a rational number in lowest terms\n",
            " |  \n",
            " |  imag\n",
            " |      the imaginary part of a complex number\n",
            " |  \n",
            " |  numerator\n",
            " |      the numerator of a rational number in lowest terms\n",
            " |  \n",
            " |  real\n",
            " |      the real part of a complex number\n",
            "\n",
            "None\n"
          ]
        }
      ]
    },
    {
      "cell_type": "markdown",
      "source": [
        "Utilitário dir\n",
        "Apresenta todos os atributos e métodos disponíveis para determinado tipo de dado.\n",
        "\n",
        "X\n",
        "\n",
        "Utilitário help\n",
        "Apresenta a documentação relativa a determinado tipo de dado."
      ],
      "metadata": {
        "id": "icXMUJoOuGaq"
      }
    },
    {
      "cell_type": "markdown",
      "source": [
        "Principais Características - Blocos\n",
        "\n",
        "Em Python, os blocos são definidos pela interação; Diferente de C e Java, que usa as {} para delimitar os blocos, em Python todos os blocos são iniciados com o símbolo : (dois pontos) na linha superior e representados pelo acrécimo de 4 (quatro) espaços a esquerda. Sem se preocupar por enquanto com o siguinificado das expressões for, if, else ou range, observe os códigos abaixo.\n"
      ],
      "metadata": {
        "id": "T2NnQ8p5uPkk"
      }
    },
    {
      "cell_type": "code",
      "source": [
        "a = 0\n",
        "for i in range(30):\n",
        "    if a % 2 == 0:\n",
        "        a += 1\n",
        "        continue\n",
        "    else:\n",
        "        if a % 5 == 0:\n",
        "            break\n",
        "        else:\n",
        "            a += 3\n",
        "print (a)\n"
      ],
      "metadata": {
        "colab": {
          "base_uri": "https://localhost:8080/"
        },
        "id": "XDmFBPrHuTn8",
        "outputId": "4d1b4bd2-31d8-4d40-c4a2-16da9222ee36"
      },
      "execution_count": null,
      "outputs": [
        {
          "output_type": "stream",
          "name": "stdout",
          "text": [
            "5\n"
          ]
        }
      ]
    },
    {
      "cell_type": "markdown",
      "source": [
        "Linha 1\n",
        "Está mais à esquerda, assim como as linhas 2 e 11.\n",
        "\n",
        "Linha 2\n",
        "Todas as linhas de 3 a 10 estão dentro do bloco do for da linha 2.\n",
        "\n",
        "Linha 3\n",
        "Observe que a linha 3 tem um if abrindo um bloco, dentro do qual estão as linhas 4 e 5.\n",
        "\n",
        "Linha 6\n",
        "Por sua vez, a linha 6 tem um else abrindo outro bloco, composto pelas linhas de 7 a 10. Os blocos do if (linha 3) e do else (linha 6) estão no mesmo nível.\n",
        "\n",
        "Linha 7\n",
        "Mostra outro if abrindo outro bloco – composto apenas pela linha 8 – que está no mesmo nível do bloco do else da linha 9 – composto apenas pela linha 10.\n",
        "\n",
        "Linha 11\n",
        "Como a linha 11 está no mesmo nível da linha 2, ela não faz parte do bloco do for.\n",
        "\n",
        "## Comentários \n",
        "\n",
        "Comentário com apenas um linha são iniciados com \"#\"\n",
        "Já comentários com várias linhas são iniciados com \"\"\" (três aspas duplas) no inicio e fim do comentário.\n",
        "\n",
        "##Boas práticas de programação \n",
        "\n",
        "Ao começar sua jornada como programador, é importante perceber que existem algumas práticas que não são obrigatórias, mas podem ajudar muito no seu aprendizado. Além disso, podem permitir que você corrija mais rapidamente erros que podem surgir no futuro e tornam seu código mais fácil de ser compreendido por outro programador, favorecendo o trabalho em equipe. Vamos conhecer algumas dessas boas práticas:\n",
        "\n",
        "thumb_up_off_alt\n",
        "Uma prática muito importante é utilizar comentários no seu programa, explicando o que aquele trecho resolve.\n",
        "\n",
        "thumb_up_off_alt\n",
        "Uma característica marcante da comunidade de desenvolvedores Python é manter uma lista de propostas de melhorias, chamadas PEP."
      ],
      "metadata": {
        "id": "-_rRxuXuw-JD"
      }
    },
    {
      "cell_type": "code",
      "source": [
        "nome = 'exemplo de string em Python'\n",
        "print(nome)\n",
        "print('valor da variável nome = {}'.format(nome))\n",
        "print(f'valor da variável nome={nome}')\n",
        "print(f\"valor da variável noem = {nome}\")"
      ],
      "metadata": {
        "colab": {
          "base_uri": "https://localhost:8080/"
        },
        "id": "vqo6UyR4xhtG",
        "outputId": "90f565f0-c535-4ba6-ce05-2eafde92eebb"
      },
      "execution_count": null,
      "outputs": [
        {
          "output_type": "stream",
          "name": "stdout",
          "text": [
            "exemplo de string em Python\n",
            "valor da variável nome = exemplo de string em Python\n",
            "valor da variável nome=exemplo de string em Python\n",
            "valor da variável noem = exemplo de string em Python\n"
          ]
        }
      ]
    },
    {
      "cell_type": "markdown",
      "source": [
        "##Variáveis\n",
        "\n",
        "Conceitos\n",
        "As variáveis são abstrações para endereços de memória que permitem que os programas fiquem mais fáceis de codificar, entender e depurar. Ao nomear uma variável com o identificador x, determinado espaço em memória passará a ter esse apelido. Em outras palavras, será possível acessar esse espaço de memória sabendo o seu apelido e, consequentemente, recuperar o valor guardado nele, que no nosso exemplo é 10.\n",
        "\n",
        "Uma analogia possível com o mundo real é com aquelas caixas de correio que ficam em frente às casas."
      ],
      "metadata": {
        "id": "MRxcOYevydNZ"
      }
    },
    {
      "cell_type": "code",
      "source": [
        "#Atribuição mútipla \n",
        "a,b = 1,2\n",
        "print('Antes da troca')\n",
        "print(f'O valor das variáveis: a={a},b={b}')\n",
        "#Primeira troca\n",
        "temp = a \n",
        "a = b\n",
        "b = temp\n",
        "print('primeira troca')\n",
        "print(f\"O valor das variáveis: a={a},b={b}\")\n",
        "#Segunda troca \n",
        "a, b = b, a \n",
        "print('segunda troca')\n",
        "print(f'Ovalor das variáveis:a={a},b={b}')"
      ],
      "metadata": {
        "colab": {
          "base_uri": "https://localhost:8080/"
        },
        "id": "rYvSr3ywzhHi",
        "outputId": "0e18aef2-a243-4167-cf45-eb89ec9b42d0"
      },
      "execution_count": null,
      "outputs": [
        {
          "output_type": "stream",
          "name": "stdout",
          "text": [
            "Antes da troca\n",
            "Ovalor das variáveis: a=1,b=2\n",
            "primeira troca\n",
            "O valor das variáveis: a=2,b=1\n",
            "segunda troca\n",
            "Ovalor das variáveis:a=1,b=2\n"
          ]
        }
      ]
    },
    {
      "cell_type": "markdown",
      "source": [
        "Python fornece o recurso em váriáveis em:\n",
        "a,b= 1,2 \n",
        "e \n",
        "a = 1 \n",
        "b = 2 "
      ],
      "metadata": {
        "id": "y86OuXkK0l2l"
      }
    },
    {
      "cell_type": "markdown",
      "source": [
        "#Operadores Compostos \n",
        "\n",
        "\n",
        "Os Operadores de Atribuição Compostos realizam uma operação e em seguida, atribuem o resultado da operação para a variável que está a esquerda do operador de atribuição.\n",
        "\n",
        "Estudamos a atribuição simples em aulas passadas e aprendemos as 2 partes que constituem a estrutura de atribuição da linguagem, bem como o seu funcionamento de maneira geral.\n",
        "\n",
        "Nesta aula continuaremos o estudo da atribuição, porém, estudaremos os operadores de atribuição compostos, isto é, os operadores que além de atribuirem o valor a sua direita à variável a sua esquerda, realizam antes alguma operação.\n",
        "\n",
        "É comum precisarmos realizar alguma operação, geralmente matemática, e atribuir o resultado a alguma variável. Podemos resolver esse problema realizando a operação sobre determinado valor e em seguida, atribuir o resultado a alguma variável. No entanto, essa é uma situação tão corriqueira que, criou-se operadores que, primeiro, realizam uma operação e em seguida, atribuem o resultado à variável a esquerda.\n",
        "\n",
        "Atualmente há 5 operadores compostos disponibilizados pela linguagem Python. Os 4 primeiros para as operações matemáticas fundamentais, soma, subtração, multiplicação e divisão. O quinto e último é para a operação módulo, isto é, o operador que retorna o resto de uma divisão.\n",
        "\n",
        "OPERADOR\tNOME\n",
        "+=\tmais igual\n",
        "-=\tmenos igual\n",
        "*=\tvezes igual\n",
        "/=\tdividido igual\n",
        "%=\tmódulo igual\n"
      ],
      "metadata": {
        "id": "SMqjqZF61IIS"
      }
    },
    {
      "cell_type": "code",
      "source": [
        "#Operadores Compostos\n",
        "x = 10 \n",
        "print (f\"x={x}\")\n",
        "x+=2\n",
        "print(f\"x={x}\")\n",
        "x-+2\n",
        "print(f\"x={x}\")\n",
        "\n",
        "x = 10 \n",
        "x*+2\n",
        "print(f\"x={x}\")\n",
        "x/=2\n",
        "print(f\"x={x}\")\n",
        "x%=2\n",
        "print(f\"x={x}\")"
      ],
      "metadata": {
        "colab": {
          "base_uri": "https://localhost:8080/"
        },
        "id": "7ySlNxOp2cvU",
        "outputId": "76a96d92-2bd6-4b02-bf10-9f84f01c8311"
      },
      "execution_count": null,
      "outputs": [
        {
          "output_type": "stream",
          "name": "stdout",
          "text": [
            "x=10\n",
            "x=12\n",
            "x=12\n",
            "x=10\n",
            "x=5.0\n",
            "x=1.0\n"
          ]
        }
      ]
    },
    {
      "cell_type": "markdown",
      "source": [
        "Identificadores de variáveis\n",
        "Os identificadores das variáveis podem ser compostos por letras, o underline (_) e, com exceção do primeiro caractere, números de 0 a 9. Veja os exemplos:\n",
        "\n",
        "MinhaVariavel, _variavel, salario1 e salario1_2\n",
        "São válidos.\n",
        "\n",
        "1variavel e salario-1\n",
        "Não são válidos.\n",
        "\n",
        "MinhaVariavel e minhavariavel\n",
        "São identificadores de duas variáveis distintas.\n",
        "\n",
        "Mesmo que seja um identificador permitido, nem sempre um identificador é bom para uma variável. Tente utilizar nomes que ajudem a entender o significado da variável para ganhar tempo quando for entender o código posteriormente.\n",
        "\n",
        "extension\n",
        "Exemplo\n",
        "salario é um nome de variável melhor que s.\n",
        "\n",
        "Algumas palavras são consideradas reservadas e não podem ser usadas como identificadores de variáveis em Python. São elas: and, as, assert, break, class, continue, def, del, elif, else, except, exec, finally, for, from, global, if, import, in, is, lambda, not, or, pass, print, raise, return, try, while, with e yield."
      ],
      "metadata": {
        "id": "hx_G92gK4Ahq"
      }
    },
    {
      "cell_type": "markdown",
      "source": [
        "#Escopo e Tempo de vida\n",
        "\n",
        "####Escopo de visibilidade\n",
        "\n",
        "O escopo define em quais partes do programa uma variável é visível. Cada nome de variável em Python tem seu escopo e fora desse escopo o nome não existe, gerando um erro quando se tenta referenciar esse nome. Quanto ao escopo, chamamos as variáveis de globais ou locais.\n",
        "\n",
        "Todos os nomes atribuídos no prompt interativo do Python (prompt do emulador, Python Console do PyCharm etc.) ou em um módulo fora de qualquer função são considerados como de escopo global. Por exemplo, ao executar a instrução da caixa de código a seguir, a variável x é uma variável global, veja:\n",
        "\n",
        "\n",
        "x = 10\n",
        "\n",
        "\n",
        "\n",
        "10\n",
        "\n",
        "\""
      ],
      "metadata": {
        "id": "ixpop3RxYpty"
      }
    },
    {
      "cell_type": "markdown",
      "source": [
        "#Variáveis Locais \n",
        "\n",
        "Para exemplificar o uso de variáveis com escopo local, vamos utilizar uma função definida pelo desenvolvedor. Não se preocupe com esse tipo de função por enquanto, você aprenderá mais detalhes posteriormente. Por enquanto, observe o emulador a seguir:"
      ],
      "metadata": {
        "id": "AVGETH5lZJ1j"
      }
    },
    {
      "cell_type": "code",
      "source": [
        "def multiplicador(numero):\n",
        "        a = 2 # esta variável tem escopo local\n",
        "        print(f\"Dentro da função, a variável vale: {a}\")\n",
        "        return a * numero\n",
        "\n",
        "a = 3 # esta variável tem escopo global\n",
        "b = multiplicador(5)\n",
        "print(f\"Fora da função, a variável a vale: {a}\")"
      ],
      "metadata": {
        "colab": {
          "base_uri": "https://localhost:8080/"
        },
        "id": "ZSsb1N1KZQp6",
        "outputId": "6f8db87b-121e-4624-a67a-1266110d824e"
      },
      "execution_count": null,
      "outputs": [
        {
          "output_type": "stream",
          "name": "stdout",
          "text": [
            "Dentro da função, a variável vale: 2\n",
            "Fora da função, a variável a vale: 3\n"
          ]
        }
      ]
    },
    {
      "cell_type": "markdown",
      "source": [
        "Agora com uma pequena alteração no código na função mutiplicador(), veja o que acontece! "
      ],
      "metadata": {
        "id": "6K19wzhvaQhn"
      }
    },
    {
      "cell_type": "code",
      "source": [
        "def multiplicador(numero):\n",
        "        return a * numero\n",
        "\n",
        "a = 3 # esta variável tem escopo global\n",
        "b = multiplicador(5)\n",
        "print(f\"A variável b vale: {b}\")"
      ],
      "metadata": {
        "colab": {
          "base_uri": "https://localhost:8080/"
        },
        "id": "QTnnv6XDaY5_",
        "outputId": "1d5de8ae-acf1-4d30-b16e-e8ff3bcbfa3f"
      },
      "execution_count": null,
      "outputs": [
        {
          "output_type": "stream",
          "name": "stdout",
          "text": [
            "A variável b vale: 15\n"
          ]
        }
      ]
    },
    {
      "cell_type": "markdown",
      "source": [
        "Na linha 5, ao se chamar a função do multiplicador(), a variável a será procurada. Como não existe uma variável a no bloco interno da função, ela é procurada como variável global. Uma vez encontrada, o valor recuperado é 3. Ao executar esse código a saída obtida será A variável b vale 15. Confira por si mesmo, clique em Executar no emulador anterior.\n",
        "\n",
        "Usamos este exemplo para mostrar que o interpretador Python pode procurar o mesmo nome de variável em diferentes escopos. A ordem utilizada para a procura é:\n",
        "\n",
        "A chamada da função delimitadora;\n",
        "Variáveis globais;\n",
        "O módulo builtins."
      ],
      "metadata": {
        "id": "vPp-tj88angR"
      }
    },
    {
      "cell_type": "code",
      "source": [
        "def multiplicador(numero):\n",
        "   global a \n",
        "   a = 2\n",
        "   print(f\"Dentro da funçaõ, variável vale {a}\")\n",
        "   return a * numero\n",
        "\n",
        "a = 3 \n",
        "b = multiplicador(5)\n",
        "print(f\"A variável b vale: {b}\")\n",
        "print(f\"Fora da função a variável vale {a}\")\n"
      ],
      "metadata": {
        "colab": {
          "base_uri": "https://localhost:8080/"
        },
        "id": "26yb1kVvau1Z",
        "outputId": "5ff1b42b-3ce3-42da-c37c-77c1dc3d9745"
      },
      "execution_count": null,
      "outputs": [
        {
          "output_type": "stream",
          "name": "stdout",
          "text": [
            "Dentro da funçaõ, variável vale 2\n",
            "A variável b vale: 10\n",
            "Fora da função a variável vale 2\n"
          ]
        }
      ]
    },
    {
      "cell_type": "markdown",
      "source": [
        "#Constantes\n",
        "##Definição\n",
        "\n",
        "\n",
        "Em Python, não existe o conceito de constante. Se você precisar de uma constante ao longo de sua jornada como programador, atribua o valor a uma variável e tome cuidado para não mudar esse valor.\n",
        "\n",
        "\n",
        "###Dica\n",
        "\n",
        "\n",
        "*Inicie o nome dessa variável com c_ ou utilize todas as letras maiúsculas, o que vai diferenciar essa variável das outras. Por exemplo, é possível utilizar a expressão **c_PI = 3.141592** para armazenar o valor de PI e agilizar o cálculo de área e perímetro de um círculo, ou utilizar a expressão **PRECISION = 0.001** para armazenar a precisão a ser utilizada em qualquer cálculo matemático no seu programa.*"
      ],
      "metadata": {
        "id": "LkBxjiVhcfDQ"
      }
    },
    {
      "cell_type": "code",
      "source": [
        "def func():\n",
        "    x = 1\n",
        "    print(x)\n",
        "x = 10\n",
        "func()\n",
        "print(x)"
      ],
      "metadata": {
        "colab": {
          "base_uri": "https://localhost:8080/"
        },
        "id": "oOPV1yt9drfg",
        "outputId": "7698e1c9-05f1-47f0-ae0f-7b1d7d9b592a"
      },
      "execution_count": null,
      "outputs": [
        {
          "output_type": "stream",
          "name": "stdout",
          "text": [
            "1\n",
            "10\n"
          ]
        }
      ]
    },
    {
      "cell_type": "markdown",
      "source": [
        "A variável x da linha 2 é local da função func(), sendo visível para a chamada print() da linha 3. Por sua vez, a variável x da linha 5 é global, sendo visível para a chamada print() da linha 7."
      ],
      "metadata": {
        "id": "Yxcl9Nkadx__"
      }
    },
    {
      "cell_type": "markdown",
      "source": [
        "#Tipos de dados e expressões em Python\n",
        "\n",
        "Veja que o Python tem a indexação iniciada em \"0\" e para acessar um valor temos de informar o valor da lista.\n"
      ],
      "metadata": {
        "id": "Qc4m9TjffM04"
      }
    },
    {
      "cell_type": "code",
      "source": [
        "lista = [101,202,303,404,505]\n",
        "print(f'lista[0] = {lista[0]}')\n",
        "print(f'lista[1] = {lista[1]}')\n",
        "print(f'lista[2] = {lista[2]}')\n",
        "print(f'lista[3] = {lista[3]}')\n",
        "print(f'lista[4] = {lista[4]}')\n",
        "print(f'lista completa: {lista}')\n"
      ],
      "metadata": {
        "colab": {
          "base_uri": "https://localhost:8080/"
        },
        "id": "evaAfUlTf4__",
        "outputId": "fae061a8-8ad8-4b8b-ca3e-4a9219ae4222"
      },
      "execution_count": null,
      "outputs": [
        {
          "output_type": "stream",
          "name": "stdout",
          "text": [
            "lista[0] = 101\n",
            "lista[1] = 202\n",
            "lista[2] = 303\n",
            "lista[3] = 404\n",
            "lista[4] = 505\n",
            "lista completa: [101, 202, 303, 404, 505]\n"
          ]
        }
      ]
    },
    {
      "cell_type": "markdown",
      "source": [
        "#Python estruturado\n",
        "\n",
        "\n",
        "#####Prof. Humberto Henriques de Arruda\n",
        "\n",
        "Bibliotecas em Python\n",
        "Eventos em Python\n",
        "\n",
        "\n",
        "1.   Estrutura de decis]ao e repetição em Python\n",
        "Item da lista\n",
        "2.   Conceitos de subprogramas e a sua utilização em Python\n",
        "3. Bibliotecas em Python \n",
        "4. Eventos em Python \n",
        "\n",
        "\n",
        "\n"
      ],
      "metadata": {
        "id": "dyiY8fDATyM6"
      }
    },
    {
      "cell_type": "code",
      "source": [
        "#Emprego de estruturas de decisão e repetição\n",
        "#Exemplo 1 \n",
        "\n",
        "a=10\n",
        "b=20\n",
        "if (a>b):\n",
        "   maior = a \n",
        "else:\n",
        "   maior = b\n",
        "print(f'O maior número é: {maior}')"
      ],
      "metadata": {
        "colab": {
          "base_uri": "https://localhost:8080/"
        },
        "id": "X97fM2djVS1t",
        "outputId": "80fae749-41cd-4f2d-9266-ef62168b623e"
      },
      "execution_count": null,
      "outputs": [
        {
          "output_type": "stream",
          "name": "stdout",
          "text": [
            "O maior número é: 20\n"
          ]
        }
      ]
    },
    {
      "cell_type": "code",
      "source": [
        "#Mas teriamos como diminuir um pouco mais neste caso! \n",
        "\n",
        "a = 10 \n",
        "b = 20 \n",
        "maior = a \n",
        "if(b>maior):\n",
        " maior = b\n",
        "print(f'O maior número é: {maior}')\n",
        "\n",
        "# Aqui foi estabelecido o comportamento inicial das variáveis.\n",
        "# Assim simplificamos a formula"
      ],
      "metadata": {
        "colab": {
          "base_uri": "https://localhost:8080/"
        },
        "id": "cCLZOceaV988",
        "outputId": "f6674d6f-a39b-4487-86cf-037ac5b1800b"
      },
      "execution_count": null,
      "outputs": [
        {
          "output_type": "stream",
          "name": "stdout",
          "text": [
            "O maior número é: 20\n"
          ]
        }
      ]
    },
    {
      "cell_type": "code",
      "source": [
        "#Exercicio 01 \n",
        "#Verifivar se o número é par ou impar\n",
        "# Solicita ao usuário um número inteiro\n",
        "\n",
        "num = int(input(\"Digite um número inteiro: \"))\n",
        "\n",
        "# Verifica se o número é par ou ímpar\n",
        "if num % 2 == 0:\n",
        "    print(f\"O número {num} é par.\")\n",
        "else:\n",
        "    print(f\"O número {num} é ímpar.\")\n"
      ],
      "metadata": {
        "colab": {
          "base_uri": "https://localhost:8080/"
        },
        "id": "ga7cJCy4WyzX",
        "outputId": "2d1dac73-49ca-4359-aaf2-b860823e9b03"
      },
      "execution_count": null,
      "outputs": [
        {
          "output_type": "stream",
          "name": "stdout",
          "text": [
            "Digite um número inteiro: 7\n",
            "O número 7 é ímpar.\n"
          ]
        }
      ]
    },
    {
      "cell_type": "code",
      "source": [
        "#Exercicio 02 \n",
        "#Implementar uma solução em Python que resolva a seguinte questão:\n",
        "#Se nota for >= 7, o estudante aprovado\n",
        "#Se a nota for <7 e/ou >=5 o estudante está em recuperação \n",
        "#Se a nota for <5, o estudante está aprovado \n",
        "\n",
        "nota = float(input('Digite sua nota: '))\n",
        "if nota >=7:\n",
        " print('O parabéns, você foi aprovado!')\n",
        "elif nota>=5:\n",
        " print('Essa foi por pouco, mas está de recuperação!')\n",
        "else:\n",
        "   print('Ano que vem terá de se esforçar mais!')"
      ],
      "metadata": {
        "id": "xvGvdIXjYFYo",
        "outputId": "aa6e00c2-0495-4b81-bac4-4d4e44bd2582",
        "colab": {
          "base_uri": "https://localhost:8080/"
        }
      },
      "execution_count": null,
      "outputs": [
        {
          "output_type": "stream",
          "name": "stdout",
          "text": [
            "Digite sua nota: 4\n",
            "Ano que vem terá de se esforçar mais!\n"
          ]
        }
      ]
    },
    {
      "cell_type": "code",
      "source": [
        "##Agora a mesma situação, só que queremos a média:\n",
        "\n",
        "notas = []\n",
        "for i in range(5):\n",
        "  nota = float(input(f'Digite sua nota{i+1}:  '))\n",
        "  notas.append(nota)\n",
        "\n",
        "media = sum(notas)/ len(notas)\n",
        "\n",
        "if media>=7:\n",
        "   print(f'O aluno está aprovado com média {media:.2f}!')\n",
        "elif media>=5:\n",
        "   print(f'O aluno está em recuperação com média {media:.2f}')\n",
        "else:\n",
        "  print(f'O aluno está reprovado com média {media:.2f}')"
      ],
      "metadata": {
        "id": "KSkdDTxEap03",
        "outputId": "72be03f4-d01a-440d-bd1e-afbc3fa48525",
        "colab": {
          "base_uri": "https://localhost:8080/"
        }
      },
      "execution_count": null,
      "outputs": [
        {
          "output_type": "stream",
          "name": "stdout",
          "text": [
            "Digite sua nota1:  8\n",
            "Digite sua nota2:  7\n",
            "Digite sua nota3:  8\n",
            "Digite sua nota4:  9\n",
            "Digite sua nota5:  9\n",
            "O aluno está aprovado com média 8.20!\n"
          ]
        }
      ]
    },
    {
      "cell_type": "code",
      "source": [
        "#Exercicio 03\n",
        "\n",
        "valor_produto = float(input(\"Digite o valor do produto: \"))\n",
        "quantidade = int(input(\"Digite a quantidade desejada: \"))\n",
        "pagamento = input(\"Digite a forma de pagamento (1 para à vista, 2 para cartão de crédito): \")\n",
        "\n",
        "if pagamento == \"1\":\n",
        "    if quantidade >= 1 and quantidade <= 10:\n",
        "        valor_desconto = valor_produto * quantidade * 0.05\n",
        "        valor_total = (valor_produto * quantidade) - valor_desconto\n",
        "        print(\"Valor total a pagar com desconto de 5%: R$ {:.2f}\".format(valor_total))\n",
        "    elif quantidade >= 11 and quantidade <= 20:\n",
        "        valor_desconto = valor_produto * quantidade * 0.1\n",
        "        valor_total = (valor_produto * quantidade) - valor_desconto\n",
        "        print(\"Valor total a pagar com desconto de 10%: R$ {:.2f}\".format(valor_total))\n",
        "    else:\n",
        "        valor_desconto = valor_produto * quantidade * 0.2\n",
        "        valor_total = (valor_produto * quantidade) - valor_desconto\n",
        "        print(\"Valor total a pagar com desconto de 20%: R$ {:.2f}\".format(valor_total))\n",
        "else:\n",
        "    if quantidade >= 1 and quantidade <= 10:\n",
        "        valor_total = valor_produto * quantidade\n",
        "        print(\"Valor total a pagar: R$ {:.2f}\".format(valor_total))\n",
        "    elif quantidade >= 11 and quantidade <= 20:\n",
        "        valor_desconto = valor_produto * quantidade * 0.1\n",
        "        valor_total = (valor_produto * quantidade) - valor_desconto\n",
        "        print(\"Valor total a pagar com desconto de 10%: R$ {:.2f}\".format(valor_total))\n",
        "    else:\n",
        "        valor_desconto = valor_produto * quantidade * 0.2\n",
        "        valor_total = (valor_produto * quantidade) - valor_desconto\n",
        "        print(\"Valor total a pagar com desconto de 20%: R$ {:.2f}\".format(valor_total))\n"
      ],
      "metadata": {
        "colab": {
          "base_uri": "https://localhost:8080/"
        },
        "id": "nyqPTaH9fWs1",
        "outputId": "4dbadd06-a58e-41e0-dd75-9f69a2f66382"
      },
      "execution_count": null,
      "outputs": [
        {
          "output_type": "stream",
          "name": "stdout",
          "text": [
            "Digite o valor do produto: 75\n",
            "Digite a quantidade desejada: 15\n",
            "Digite a forma de pagamento (1 para à vista, 2 para cartão de crédito): 1\n",
            "Valor total a pagar com desconto de 10%: R$ 1012.50\n"
          ]
        }
      ]
    },
    {
      "cell_type": "code",
      "source": [
        "#Exercicio 04\n",
        "\n",
        "lista = [10,2,5,7,6,3]\n",
        "n=len(lista)\n",
        "soma=0\n",
        "for i in range(n):\n",
        "  if(lista[i]%2==0):\n",
        "    soma=soma+lista[i]\n",
        "print(f'O somatório dos elementos pares da lista é: {soma}')\n"
      ],
      "metadata": {
        "colab": {
          "base_uri": "https://localhost:8080/"
        },
        "id": "JumcUwU8fYse",
        "outputId": "4579a58e-6095-4e3a-b917-b213d7a09813"
      },
      "execution_count": null,
      "outputs": [
        {
          "output_type": "stream",
          "name": "stdout",
          "text": [
            "O somatório dos elementos pares da lista é: 18\n"
          ]
        }
      ]
    },
    {
      "cell_type": "markdown",
      "source": [
        "#Emprego de procedimentos e funções\n"
      ],
      "metadata": {
        "id": "6wn4NSovtIKC"
      }
    },
    {
      "cell_type": "code",
      "source": [
        "def encontra_minimo(lista):\n",
        "  minimo = lista[0]\n",
        "  for elem in lista:\n",
        "    if(elem < minimo):\n",
        "      minimo = elem \n",
        "      return minimo \n",
        "\n",
        "lista_teste = [2,10,3,1,4,5]\n",
        "menor = encontra_minimo (lista_teste)\n",
        "print('O menor elemento da lista é:[{}]'.format(menor))\n",
        "                "
      ],
      "metadata": {
        "id": "ADXCc04ytLHV",
        "outputId": "23b52e46-336d-4ad4-ccbb-47f85682330d",
        "colab": {
          "base_uri": "https://localhost:8080/"
        }
      },
      "execution_count": null,
      "outputs": [
        {
          "output_type": "stream",
          "name": "stdout",
          "text": [
            "O menor elemento da lista é:[1]\n"
          ]
        }
      ]
    },
    {
      "cell_type": "code",
      "source": [
        "#Exercicio 01\n",
        "\n",
        "#Implementar uma solução em Python que retorn a soma de todos os elementos pares de uma lista.\n",
        "\n",
        "def ehPar(n):\n",
        "  r = (n%2==0)\n",
        "  return r\n",
        "\n",
        "def soma_par(lst):\n",
        "  soma=0\n",
        "  for num in lst:\n",
        "   if(ehPar(num)):\n",
        "    soma=soma+num\n",
        "  return soma\n",
        "\n",
        "lista = [10,2,5,7,6,3]\n",
        "soma=soma_par(lista)\n",
        "print(f'O somatório dos Elementos pares da lista é: {soma}')\n"
      ],
      "metadata": {
        "id": "mtn9wYE2vs2L",
        "outputId": "79a1e4dc-5f85-4270-d10e-d806a34c1d80",
        "colab": {
          "base_uri": "https://localhost:8080/"
        }
      },
      "execution_count": null,
      "outputs": [
        {
          "output_type": "stream",
          "name": "stdout",
          "text": [
            "O somatório dos Elementos pares da lista é: 18\n"
          ]
        }
      ]
    },
    {
      "cell_type": "code",
      "source": [
        "#Exercicio 02\n",
        "#Implementar uma solução em Python que calcule o fatorial de um número\n",
        "# N!= N.(N-1) (Fator ou Fatorial)\n",
        "\n",
        "#Teremos duas formas de resolver este problema Imperativo e Recursivo\n",
        "\n",
        "def fatorial_iterativo(n):\n",
        "  f = 1\n",
        "  for i in range(1, n+1):\n",
        "    f *= i\n",
        "  return f\n",
        "\n",
        "def fatorial_recursivo(n):\n",
        "  if n == 0 or n == 1:\n",
        "    return 1\n",
        "  return n * fatorial_recursivo(n-1)\n",
        "\n",
        "numero = int(input('Digite um número para receber o seu fatorial: '))\n",
        "\n",
        "print(f'O fatorial do número {numero} é: {fatorial_iterativo(numero)}')\n",
        "print(f'O fatorial do número {numero} é: {fatorial_recursivo(numero)}')\n",
        "\n",
        "\n",
        "\n",
        "\n"
      ],
      "metadata": {
        "id": "GBxNmec1yqBx",
        "outputId": "d220ef4b-d1e7-4387-d52d-db015b93be6d",
        "colab": {
          "base_uri": "https://localhost:8080/"
        }
      },
      "execution_count": null,
      "outputs": [
        {
          "output_type": "stream",
          "name": "stdout",
          "text": [
            "Digite um número para receber o seu fatorial: 8\n",
            "O fatorial do número 8 é: 40320\n",
            "O fatorial do número 8 é: 40320\n"
          ]
        }
      ]
    },
    {
      "cell_type": "code",
      "source": [
        "#Exercicio 03\n",
        "# Implementar i,a solução em Python que determine se um número é ou não primo\n",
        "\n",
        "\n",
        "def eh_primo(n):\n",
        "  if(n<1):\n",
        "    return false\n",
        "  i=n//2\n",
        "  while(i>1):\n",
        "    if(n%i==0):\n",
        "      return False\n",
        "    i=i-1\n",
        "  return True \n",
        "\n",
        "def imprimir_resultado (numero, resultado):\n",
        " mensagem = f'O número {numero} não é primo'\n",
        " if(resultado):\n",
        "   mensagem = f'O Número {numero} é primo'\n",
        " return mensagem\n",
        "\n",
        "numero = int(input(\"Digite o numero para saber se é primo: \"))\n",
        "resultado=eh_primo(numero)\n",
        "msg=imprimir_resultado(numero, resultado)\n",
        "print (msg)\n"
      ],
      "metadata": {
        "id": "O7aZ7S3SwPR9",
        "outputId": "63f29aae-51c5-45d6-baea-2af378435074",
        "colab": {
          "base_uri": "https://localhost:8080/"
        }
      },
      "execution_count": null,
      "outputs": [
        {
          "output_type": "stream",
          "name": "stdout",
          "text": [
            "Digite o numero para saber se é primo: 7\n",
            "O Número 7 é primo\n"
          ]
        }
      ]
    },
    {
      "cell_type": "code",
      "source": [
        " try:\n",
        "      num = eval(input(\"Entre com um número inteiro: \"))\n",
        "      print(num)\n",
        " except ValueError:\n",
        "      print(\"Mensagem 1\")\n",
        " except IndexError:\n",
        "      print(\"Mensagem 2\")\n",
        " except:\n",
        "      print(\"Mensagem 3\")"
      ],
      "metadata": {
        "id": "ClglfmlB4YVc",
        "outputId": "6b92ead4-c701-461a-9303-22a437b37a18",
        "colab": {
          "base_uri": "https://localhost:8080/"
        }
      },
      "execution_count": null,
      "outputs": [
        {
          "output_type": "stream",
          "name": "stdout",
          "text": [
            "Entre com um número inteiro: Numero\n",
            "Mensagem 3\n"
          ]
        }
      ]
    },
    {
      "cell_type": "code",
      "source": [
        "# Como implementar classe no Python\n",
        "\n",
        "class Pessoa:\n",
        "  def __init__(self, nome, ender):\n",
        "    self.set_nome(nome)\n",
        "    self.set_ender(ender)\n",
        "\n",
        "  def set_nome (self, nome):\n",
        "    self.nome=nome\n",
        "\n",
        "  def set_ender(self, ender):\n",
        "    self.ender=ender\n",
        "\n",
        "  def get_nome(self):\n",
        "    return self.nome\n",
        "\n",
        "  def get_ender(self):\n",
        "    return self.ender\n",
        "\n",
        "pessoa1 = Pessoa(\"Maria\", \"Rua 01234\")\n",
        "pessoa2 = Pessoa(\"João\", \"Rua 56789\")\n",
        "\n",
        "print(f'Nome: {pessoa1.get_nome()}, Endereço: {pessoa1.get_ender()}')\n",
        "print(f'Nome: {pessoa2.get_nome()}, Endereço: {pessoa2.get_ender()}')"
      ],
      "metadata": {
        "id": "hjs8Z_D5HGGm",
        "outputId": "e0399fe9-d6e8-46bf-f45b-3c31d272ca4f",
        "colab": {
          "base_uri": "https://localhost:8080/"
        }
      },
      "execution_count": null,
      "outputs": [
        {
          "output_type": "stream",
          "name": "stdout",
          "text": [
            "Nome: Maria, Endereço: Rua 01234\n",
            "Nome: João, Endereço: Rua 56789\n"
          ]
        }
      ]
    },
    {
      "cell_type": "code",
      "source": [
        "class Pessoa:\n",
        "  def __init__(self, nome, idade):\n",
        "    self.nome = nome\n",
        "    self.idade = idade\n",
        "\n",
        "  def imprimir(self):\n",
        "    print(self.nome, \"tem\", self.idade, \"ano(s)\")\n",
        "\n",
        "  def getIdade(self):\n",
        "    return self.idade\n",
        "\n",
        "  def setIdade(self, idade):\n",
        "    self.idade = idade\n",
        "    \n",
        "p = Pessoa (\"Ana\", 25)\n",
        "p.imprimir()"
      ],
      "metadata": {
        "id": "R9KlOzbcOC1H",
        "outputId": "9b0d577a-dc50-4128-ca3d-352a6e5be695",
        "colab": {
          "base_uri": "https://localhost:8080/"
        }
      },
      "execution_count": null,
      "outputs": [
        {
          "output_type": "stream",
          "name": "stdout",
          "text": [
            "Ana tem 25 ano(s)\n"
          ]
        }
      ]
    },
    {
      "cell_type": "code",
      "source": [
        "\n",
        "# Classe Salário \n",
        "class Salario:\n",
        "  def __init__(self, base , bonus):\n",
        "    self.base = base\n",
        "    self. bonus = bonus\n",
        "\n",
        "  def salario_anual(self):\n",
        "    return(self.base*12)+self.bonus\n",
        "  \n",
        "#Classe Empregado \n",
        "\n",
        "class Empregado:\n",
        "  def __init__(self, nome, idade, salario):\n",
        "    self.nome = nome\n",
        "    self.idade = idade\n",
        "    self.salario_agregado = salario\n",
        "\n",
        "  def salario_total(self):\n",
        "    return self.salario_agregado.salario_anual()\n",
        "\n",
        "salario = Salario(10000, 700)\n",
        "emp = Empregado(\"Musashi\", 46, salario)\n",
        "print(emp.salario_total())\n",
        "  \n"
      ],
      "metadata": {
        "id": "N9WakagDV20f",
        "outputId": "d2afee43-6985-44bb-d4e2-f711bd709554",
        "colab": {
          "base_uri": "https://localhost:8080/"
        }
      },
      "execution_count": null,
      "outputs": [
        {
          "output_type": "stream",
          "name": "stdout",
          "text": [
            "120700\n"
          ]
        }
      ]
    },
    {
      "cell_type": "code",
      "source": [
        "from datetime import date\n",
        "\n",
        "class Pessoa:\n",
        "  def __init__(self, nome, idade):\n",
        "    self.nome = nome\n",
        "    self.idade = idade\n",
        "\n",
        "  @classmethod\n",
        "  def apartirAnonascimento(cls, nome, ano):\n",
        "    return cls(nome, date.today().year - ano)\n",
        "\n",
        "  @staticmethod\n",
        "  def ehMaiorIdade(idade):\n",
        "    return idade >= 18\n",
        "\n",
        "pessoa1 = Pessoa(\"Maria\", 26)\n",
        "pessoa2 = Pessoa.apartirAnonascimento(\"Ana\", 2006)\n",
        "\n",
        "print(pessoa1.idade)\n",
        "print(pessoa2.idade)\n",
        "print(Pessoa.ehMaiorIdade(17))"
      ],
      "metadata": {
        "id": "5evJY-XYYirK",
        "outputId": "c481ec79-ed48-46dd-cf06-d79d72c241e3",
        "colab": {
          "base_uri": "https://localhost:8080/"
        }
      },
      "execution_count": null,
      "outputs": [
        {
          "output_type": "stream",
          "name": "stdout",
          "text": [
            "26\n",
            "17\n",
            "False\n"
          ]
        }
      ]
    },
    {
      "cell_type": "code",
      "source": [
        "class Conta:\n",
        "    def __init__(self, numero, cpf, nomeTitular, saldo):\n",
        "        self.numero = numero\n",
        "        self.cpf = cpf\n",
        "        self.nomeTitular = nomeTitular\n",
        "        self.saldo = saldo\n",
        "\n",
        "def main():\n",
        "    c1 = Conta(1,1,\"Joao\",1000) # Objeto sendo instanciado\n",
        "    print(f\"Nome do titular da conta: {c1.nomeTitular}\")\n",
        "    print(f\"Número da conta: {c1.numero}\")\n",
        "    print(f\"CPF do titular da conta: {c1.cpf}\")\n",
        "    print(f\"Saldo da conta: {c1.saldo}\")\n",
        "    \n",
        "if __name__ == \"__main__\": \n",
        "    main()"
      ],
      "metadata": {
        "id": "MoKpMf-dcPVZ",
        "outputId": "b712975f-2b86-439f-a6b0-b38e51aee598",
        "colab": {
          "base_uri": "https://localhost:8080/"
        }
      },
      "execution_count": null,
      "outputs": [
        {
          "output_type": "stream",
          "name": "stdout",
          "text": [
            "Nome do titular da conta: Joao\n",
            "Número da conta: 1\n",
            "CPF do titular da conta: 1\n",
            "Saldo da conta: 1000\n"
          ]
        }
      ]
    },
    {
      "cell_type": "code",
      "source": [
        "class Conta:\n",
        "    def __init__(self, numero, cpf, nomeTitular, saldo):\n",
        "        self.numero = numero\n",
        "        self.cpf = cpf\n",
        "        self.nomeTitular = nomeTitular\n",
        "        self.saldo = saldo\n",
        "    \n",
        "    def depositar(self, valor):\n",
        "        self.saldo += valor\n",
        "    \n",
        "    def sacar(self, valor):\n",
        "        self.saldo -= valor\n"
      ],
      "metadata": {
        "id": "7cAQEyhadHiT"
      },
      "execution_count": null,
      "outputs": []
    },
    {
      "cell_type": "code",
      "source": [
        "class Conta:\n",
        "    def __init__(self, numero, cpf, nomeTitular, saldo):\n",
        "        self.numero = numero\n",
        "        self.cpf = cpf\n",
        "        self.nomeTitular = nomeTitular\n",
        "        self.saldo = saldo\n",
        "    \n",
        "    def depositar(self, valor):\n",
        "        self.saldo += valor\n",
        "    \n",
        "    def sacar(self, valor):\n",
        "        self.saldo -= valor\n"
      ],
      "metadata": {
        "id": "5ISFjI1qdbg5"
      },
      "execution_count": null,
      "outputs": []
    },
    {
      "cell_type": "code",
      "source": [
        "class Conta:\n",
        "    def __init__(self, numero, cpf, nomeTitular, saldo):\n",
        "        self.numero = numero\n",
        "        self.cpf = cpf\n",
        "        self.nomeTitular = nomeTitular\n",
        "        self.saldo = saldo\n",
        "        \n",
        "    def depositar(self, valor):\n",
        "        self.saldo += valor\n",
        "        \n",
        "    def sacar(self, valor):\n",
        "        self.saldo -= valor\n",
        "        \n",
        "    def gerar_extrato(self):\n",
        "        print(f\"numero: {self.numero} \\n cpf: {self.cpf}\\nsaldo: {self.saldo}\")     \n",
        "\n",
        "def main():\n",
        "    c1 = Conta(1,1,\"Joao\",0)\n",
        "    c1.depositar(300)\n",
        "    c1.sacar(100)\n",
        "    c1.gerar_extrato()\n",
        "\n",
        "if __name__ == \"__main__\": \n",
        "    main()"
      ],
      "metadata": {
        "id": "UdgqCuxldd-f",
        "outputId": "d7554416-80bb-439d-de72-dd21ad9d9391",
        "colab": {
          "base_uri": "https://localhost:8080/"
        }
      },
      "execution_count": null,
      "outputs": [
        {
          "output_type": "stream",
          "name": "stdout",
          "text": [
            "numero: 1 \n",
            " cpf: 1\n",
            "saldo: 200\n"
          ]
        }
      ]
    },
    {
      "cell_type": "code",
      "source": [
        "class Conta():\n",
        "    def __init__(self, numero, cpf, nomeTitular, saldo):\n",
        "        self.numero = numero\n",
        "        self.cpf = cpf\n",
        "        self.nomeTitular = nomeTitular\n",
        "        self.saldo = saldo\n",
        "        \n",
        "    def depositar(self, valor):\n",
        "        self.saldo += valor\n",
        "        \n",
        "    def sacar(self,valor):\n",
        "        if self.saldo < valor:\n",
        "            return False\n",
        "        else:\n",
        "            self.saldo -= valor\n",
        "            return True\n",
        "            \n",
        "    def gerar_extrato(self):\n",
        "        print(f\"numero: {self.numero}\\n cpf: {self.cpf}\\nsaldo: {self.saldo}\")     \n",
        "        \n",
        "def main():\n",
        "    c1 = Conta(1,1,\"Joao\",0)\n",
        "    c1.depositar(300)\n",
        "    saque = c1.sacar(400)\n",
        "    c1.gerar_extrato()\n",
        "    print(f\"O saque foi realizado? {saque}\")\n",
        "    \n",
        "\n",
        "if __name__ == \"__main__\": \n",
        "    main()"
      ],
      "metadata": {
        "id": "xrk4IGVsdpjg",
        "outputId": "5f7458aa-40e1-4cc7-f4ff-50927e44bcc3",
        "colab": {
          "base_uri": "https://localhost:8080/"
        }
      },
      "execution_count": null,
      "outputs": [
        {
          "output_type": "stream",
          "name": "stdout",
          "text": [
            "numero: 1\n",
            " cpf: 1\n",
            "saldo: 300\n",
            "O saque foi realizado? False\n"
          ]
        }
      ]
    },
    {
      "cell_type": "code",
      "source": [
        "class Conta():\n",
        "    def __init__(self, numero, cpf, nomeTitular, saldo):\n",
        "        self.numero = numero\n",
        "        self.cpf = cpf\n",
        "        self.nomeTitular = nomeTitular\n",
        "        self.saldo = saldo\n",
        "        \n",
        "    def depositar(self, valor):\n",
        "        self.saldo += valor\n",
        "        \n",
        "    def sacar(self,valor):\n",
        "        if self.saldo < valor:\n",
        "            return False\n",
        "        else:\n",
        "            self.saldo -= valor\n",
        "            return True\n",
        "            \n",
        "    def gerar_extrato(self):\n",
        "        print(f\"numero: {self.numero}\\n cpf: {self.cpf}\\nsaldo: {self.saldo}\")     \n",
        "        \n",
        "def main():\n",
        "    c1 = Conta(1,1,\"Joao\",0)\n",
        "    c1.depositar(300)\n",
        "    saque = c1.sacar(400)\n",
        "    c1.gerar_extrato()\n",
        "    print(f\"O saque foi realizado? {saque}\")\n",
        "    \n",
        "\n",
        "if __name__ == \"__main__\": \n",
        "    main()"
      ],
      "metadata": {
        "id": "Fpc0tjh3eQDA"
      },
      "execution_count": null,
      "outputs": []
    },
    {
      "cell_type": "code",
      "source": [
        "class Conta:\n",
        "    def __init__(self, clientes, numero, saldo):\n",
        "        self.clientes = clientes\n",
        "        self.numero = numero\n",
        "        self.saldo = saldo \n",
        "\n",
        "    def depositar(self, valor):\n",
        "        self.saldo += valor \n",
        "\n",
        "    def sacar(self, valor):\n",
        "        if self.saldo < valor:\n",
        "            return False\n",
        "        else:\n",
        "            self.saldo -= valor\n",
        "            return True\n",
        "\n",
        "    def transferir_valor(self, conta_destino, valor):\n",
        "        if self.saldo < valor:\n",
        "            return \"Não existe saldo suficiente\"\n",
        "        else:\n",
        "            conta_destino.depositar(valor)\n",
        "            self.saldo -= valor\n",
        "            return \"Transferência realizada\"\n",
        "\n",
        "    def gerar_saldo(self):\n",
        "        print(f\"Número: {self.numero}\\nSaldo: {self.saldo}\")\n",
        "\n"
      ],
      "metadata": {
        "id": "DIDNvOb8fNLg"
      },
      "execution_count": null,
      "outputs": []
    },
    {
      "cell_type": "code",
      "source": [
        "import datetime\n",
        "from extrato import Extrato\n",
        "\n",
        "class Conta:\n",
        "    def __init__(self, clientes, numero, saldo):\n",
        "        self.clientes = clientes\n",
        "        self.numero = numero\n",
        "        self.saldo = saldo\n",
        "        self.data_abertura = datetime.datetime.today()\n",
        "        self.extrato = Extrato()\n",
        "\n",
        "    def depositar(self, valor):\n",
        "        self.saldo += valor\n",
        "        self.extrato.transacoes.append([\"DEPOSITO\", valor, \"Data\", datetime.datetime.today()])\n",
        "\n",
        "    def sacar(self, valor):\n",
        "        if self.saldo < valor:\n",
        "            return False\n",
        "        else:\n",
        "            self.saldo -= valor\n",
        "            self.extrato.transacoes.append([\"SAQUE\", valor, \"Data\", datetime.datetime.today()])\n",
        "            return True\n",
        "\n",
        "    def transfereValor(self, contadestino, valor):\n",
        "        if self.saldo < valor:\n",
        "            return \"Não existe saldo suficiente\"\n",
        "        else:\n",
        "            contadestino.depositar(valor)\n",
        "            self.saldo -= valor\n",
        "            self.extrato.transacoes.append([\"TRANSFERENCIA\", valor, \"Data\", datetime.datetime.today()])\n",
        "            return \"Transferencia Realizada\"\n",
        "\n",
        "    def gerarsaldo(self):\n",
        "        print(f\"numero: {self.numero}\\n saldo: {self.saldo}\")\n"
      ],
      "metadata": {
        "id": "er7wXGbphGuA",
        "outputId": "38c60cd6-586f-48d1-914c-7e8ad6755665",
        "colab": {
          "base_uri": "https://localhost:8080/",
          "height": 373
        }
      },
      "execution_count": null,
      "outputs": [
        {
          "output_type": "error",
          "ename": "ModuleNotFoundError",
          "evalue": "ignored",
          "traceback": [
            "\u001b[0;31m---------------------------------------------------------------------------\u001b[0m",
            "\u001b[0;31mModuleNotFoundError\u001b[0m                       Traceback (most recent call last)",
            "\u001b[0;32m<ipython-input-40-b655daef0681>\u001b[0m in \u001b[0;36m<cell line: 2>\u001b[0;34m()\u001b[0m\n\u001b[1;32m      1\u001b[0m \u001b[0;32mimport\u001b[0m \u001b[0mdatetime\u001b[0m\u001b[0;34m\u001b[0m\u001b[0;34m\u001b[0m\u001b[0m\n\u001b[0;32m----> 2\u001b[0;31m \u001b[0;32mfrom\u001b[0m \u001b[0mextrato\u001b[0m \u001b[0;32mimport\u001b[0m \u001b[0mExtrato\u001b[0m\u001b[0;34m\u001b[0m\u001b[0;34m\u001b[0m\u001b[0m\n\u001b[0m\u001b[1;32m      3\u001b[0m \u001b[0;34m\u001b[0m\u001b[0m\n\u001b[1;32m      4\u001b[0m \u001b[0;32mclass\u001b[0m \u001b[0mConta\u001b[0m\u001b[0;34m:\u001b[0m\u001b[0;34m\u001b[0m\u001b[0;34m\u001b[0m\u001b[0m\n\u001b[1;32m      5\u001b[0m     \u001b[0;32mdef\u001b[0m \u001b[0m__init__\u001b[0m\u001b[0;34m(\u001b[0m\u001b[0mself\u001b[0m\u001b[0;34m,\u001b[0m \u001b[0mclientes\u001b[0m\u001b[0;34m,\u001b[0m \u001b[0mnumero\u001b[0m\u001b[0;34m,\u001b[0m \u001b[0msaldo\u001b[0m\u001b[0;34m)\u001b[0m\u001b[0;34m:\u001b[0m\u001b[0;34m\u001b[0m\u001b[0;34m\u001b[0m\u001b[0m\n",
            "\u001b[0;31mModuleNotFoundError\u001b[0m: No module named 'extrato'",
            "",
            "\u001b[0;31m---------------------------------------------------------------------------\u001b[0;32m\nNOTE: If your import is failing due to a missing package, you can\nmanually install dependencies using either !pip or !apt.\n\nTo view examples of installing some common dependencies, click the\n\"Open Examples\" button below.\n\u001b[0;31m---------------------------------------------------------------------------\u001b[0m\n"
          ],
          "errorDetails": {
            "actions": [
              {
                "action": "open_url",
                "actionText": "Open Examples",
                "url": "/notebooks/snippets/importing_libraries.ipynb"
              }
            ]
          }
        }
      ]
    },
    {
      "cell_type": "code",
      "source": [
        "class Veiculo:\n",
        "    def __init__(self, nome, velocidade_max, quilometro_litro):\n",
        "        self.nome = nome\n",
        "        self.velocidade_max = velocidade_max\n",
        "        self.quilometro_litro = quilometro_litro\n",
        "\n",
        "    def capacidade_assentos(self, capacidade):\n",
        "      print(f'Acapacidade máxima de assentos do veículo {self.nome} é {capacidade}')\n",
        "    \n",
        "    def toStr(self):\n",
        "        print(f'nome = {self.nome}')\n",
        "        print(f'velocidade_max = {self.velocidade_max}')\n",
        "        print(f'Quilômetros percorridos por litro = {self.quilometro_litro}')\n",
        "\n",
        "\n",
        "modelo_carro = Veiculo(\"fusca\", 180, 10)\n",
        "modelo_carro.toStr()\n",
        "\n",
        "class Onibus(Veiculo):\n",
        "    pass\n",
        "\n",
        "onibus_escolar = Onibus(\"Scania\", 120, 8)\n",
        "onibus_escolar.toStr()"
      ],
      "metadata": {
        "id": "4jwBVeGviK5d",
        "outputId": "1d5e7881-9563-4d4c-f0c3-664970af9821",
        "colab": {
          "base_uri": "https://localhost:8080/"
        }
      },
      "execution_count": 5,
      "outputs": [
        {
          "output_type": "stream",
          "name": "stdout",
          "text": [
            "nome = fusca\n",
            "velocidade_max = 180\n",
            "Quilômetros percorridos por litro = 10\n",
            "nome = Scania\n",
            "velocidade_max = 120\n",
            "Quilômetros percorridos por litro = 8\n"
          ]
        }
      ]
    },
    {
      "cell_type": "code",
      "source": [
        "class Veiculo:\n",
        "    def __init__(self, nome, velocidade_max, quilometro_litro):\n",
        "        self.nome = nome\n",
        "        self.velocidade_max = velocidade_max\n",
        "        self.quilometro_litro = quilometro_litro\n",
        "\n",
        "    def capacidade_assentos(self, capacidade):\n",
        "        print(f'Acapacidade máxima de assentos do veículo {self.nome} é {capacidade}')\n",
        "    \n",
        "    def toStr(self):\n",
        "        print(f'nome = {self.nome}')\n",
        "        print(f'velocidade_max = {self.velocidade_max}')\n",
        "        print(f'Quilômetros percorridos por litro = {self.quilometro_litro}')\n",
        "\n",
        "class Onibus(Veiculo):\n",
        "    def capacidade_assentos(self, capacidade=70):\n",
        "       return super().capacidade_assentos(capacidade=70)\n",
        "\n",
        "onibus_escolar = Onibus(\"Scania\", 120, 8)\n",
        "onibus_escolar.toStr()\n",
        "\n"
      ],
      "metadata": {
        "id": "5L1AU_OSlCiE",
        "outputId": "2118ca88-d13c-4334-bc40-b17b15d45537",
        "colab": {
          "base_uri": "https://localhost:8080/"
        }
      },
      "execution_count": 6,
      "outputs": [
        {
          "output_type": "stream",
          "name": "stdout",
          "text": [
            "nome = Scania\n",
            "velocidade_max = 120\n",
            "Quilômetros percorridos por litro = 8\n"
          ]
        }
      ]
    },
    {
      "cell_type": "markdown",
      "source": [
        "Um pouco sobre herança e polimorfismo! \n",
        "\n",
        "Imagine que está criando um jogo, e neste jogo, você precisa adicionar personas, digamos que 4 deles!\n",
        "\n",
        "Sendo assim você criaria a classe personagem_box, onde colocaria atributos como movimentação, orientação, targth box e outros atributos que todo personagem que queira parecer sólido precisa ter!\n",
        "\n",
        "Depois disso, poderia criar mais duas classe com heranças, mesmo sendo personagens que agora teria uma outra classe adicional como elemento, que daria um pode X diferente, mas manteria os atributos da classe original, como targth box, movimentação e orientação. \n",
        "Podendo usar isso em vários outros personagens recebendo atributos de uma classe principal, sempre cuidando para que ela não fique poluida ou tenha informações em demasia."
      ],
      "metadata": {
        "id": "AHaI5oyYmMxb"
      }
    },
    {
      "cell_type": "code",
      "source": [],
      "metadata": {
        "id": "qzUzR826mRWw"
      },
      "execution_count": null,
      "outputs": []
    }
  ]
}