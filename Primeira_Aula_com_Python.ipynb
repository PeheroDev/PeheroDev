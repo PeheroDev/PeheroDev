{
  "nbformat": 4,
  "nbformat_minor": 0,
  "metadata": {
    "colab": {
      "provenance": [],
      "authorship_tag": "ABX9TyNIf3ygpxCO6IEWQsHd19K6",
      "include_colab_link": true
    },
    "kernelspec": {
      "name": "python3",
      "display_name": "Python 3"
    },
    "language_info": {
      "name": "python"
    }
  },
  "cells": [
    {
      "cell_type": "markdown",
      "metadata": {
        "id": "view-in-github",
        "colab_type": "text"
      },
      "source": [
        "<a href=\"https://colab.research.google.com/github/PeheroDev/PeheroDev/blob/main/Primeira_Aula_com_Python.ipynb\" target=\"_parent\"><img src=\"https://colab.research.google.com/assets/colab-badge.svg\" alt=\"Open In Colab\"/></a>"
      ]
    },
    {
      "cell_type": "code",
      "execution_count": null,
      "metadata": {
        "id": "ezUrezN1i9kj"
      },
      "outputs": [],
      "source": []
    },
    {
      "cell_type": "code",
      "source": [
        "print (\"Olá, Mundo!\")"
      ],
      "metadata": {
        "colab": {
          "base_uri": "https://localhost:8080/"
        },
        "id": "xavdG76njCwe",
        "outputId": "f159363d-b5bc-4a2f-9027-dffe7f5d0e65"
      },
      "execution_count": null,
      "outputs": [
        {
          "output_type": "stream",
          "name": "stdout",
          "text": [
            "Olá, Mundo!\n"
          ]
        }
      ]
    },
    {
      "cell_type": "markdown",
      "source": [
        "02/05/2023 - Estácio de Sá - Sistema da Informação - Paradigmas de linguagem e Python\n",
        "\n",
        "No Python, ele aceita tanto aspas duplas quanto aspas simples (\"Olá, Mundo!\") Ou ('Olá, Mundo').\n",
        "\n",
        "Sendo uma lingua multiparadigma, portável, hibrida, expansível, PDO, funcional, permite aplicações WEB e aplicações comerciais. \n",
        "**negrito**"
      ],
      "metadata": {
        "id": "HU5cX4HQjL5W"
      }
    },
    {
      "cell_type": "code",
      "source": [
        "print(12345)\n",
        "print('valor',12345)\n",
        "print('valor={}'.format(12345))\n",
        "print(f'valor={12345}')\n",
        "print(\"valor\",12345)\n",
        "print(\"valor={}\".format(12345))\n",
        "print(f\"valor={12345}\")\n"
      ],
      "metadata": {
        "colab": {
          "base_uri": "https://localhost:8080/"
        },
        "id": "lnmuj-ZAkPnB",
        "outputId": "f328689b-8839-4618-9ee9-e6e54fa71682"
      },
      "execution_count": null,
      "outputs": [
        {
          "output_type": "stream",
          "name": "stdout",
          "text": [
            "12345\n",
            "valor 12345\n",
            "valor=12345\n",
            "valor=12345\n",
            "valor 12345\n",
            "valor=12345\n",
            "valor=12345\n"
          ]
        }
      ]
    },
    {
      "cell_type": "markdown",
      "source": [
        "Mostrnaod diversas formas de usar o print\n",
        "\n",
        "print 1 - Print simples\n",
        "print 2 - Usando 'aspas simples'\n",
        "print 3 - Quando usamos chaves colocamos os numeros dentro da chave (bastante utilizado para a formatação)\n",
        "print 4 - Bastante utilizando junto com Javascript. A utilização do \"f\" como variável\n",
        "Os outros prints, são uma amostra de que com aspas duplas sairiam o mesmo resultado.\n"
      ],
      "metadata": {
        "id": "_OKIXzrHlBku"
      }
    },
    {
      "cell_type": "code",
      "source": [
        "print(\"Preparando o Ambiente para o Python.\")"
      ],
      "metadata": {
        "colab": {
          "base_uri": "https://localhost:8080/"
        },
        "id": "xLCiOAPQlkRP",
        "outputId": "1c03f133-c5ff-4a08-e379-7d3531bbacd2"
      },
      "execution_count": null,
      "outputs": [
        {
          "output_type": "stream",
          "name": "stdout",
          "text": [
            "Preparando o Ambiente para o Python.\n"
          ]
        }
      ]
    },
    {
      "cell_type": "markdown",
      "source": [
        "IDEs, para programar com Python\n",
        "\n",
        "Google Colab \n",
        "Pycharm\n",
        "\n"
      ],
      "metadata": {
        "id": "1xmr362RmPTl"
      }
    }
  ]
}